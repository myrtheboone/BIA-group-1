{
 "cells": [
  {
   "cell_type": "markdown",
   "metadata": {},
   "source": [
    "# Assignment 3: Convolutional neural networks for classification\n",
    "\n",
    "The goal of this assignment is to demonstrate the Keras API for implementing and training convolutional neural network architectures. Furthermore, you get to work with the PatchCAMELYON (or PCAM) dataset that you should also use for the main project work. Essentially, this assignment demonstrated a minimal working example for the main project work.\n",
    "\n",
    "### Preliminaries\n",
    "\n",
    "The full working code of the example convolutional neural network can be found in the `cnn.py` file. As before, we will go over the components of the code in this Python notebook, however, you are strongly encouraged to perform all experiments using `cnn.py`. We start with importing the required libraries and defining the size of the images in the PCAM dataset.\n"
   ]
  },
  {
   "cell_type": "code",
   "execution_count": 7,
   "metadata": {},
   "outputs": [],
   "source": [
    "import os\n",
    "\n",
    "import numpy as np\n",
    "import matplotlib.pyplot as plt\n",
    "\n",
    "\n",
    "from tensorflow.keras.preprocessing.image import ImageDataGenerator\n",
    "from tensorflow.keras.models import Sequential\n",
    "from tensorflow.keras.layers import Dense, Flatten\n",
    "from tensorflow.keras.layers import Conv2D, MaxPool2D\n",
    "from tensorflow.keras.optimizers import SGD\n",
    "from tensorflow.keras.callbacks import ModelCheckpoint, TensorBoard\n",
    "import keras\n",
    "from importlib import reload\n",
    "reload(keras.models)\n",
    "\n",
    "# unused for now, to be used for ROC analysis\n",
    "from sklearn.metrics import roc_curve, auc\n",
    "\n",
    "\n",
    "# the size of the images in the PCAM dataset\n",
    "IMAGE_SIZE = 96"
   ]
  },
  {
   "cell_type": "markdown",
   "metadata": {},
   "source": [
    "### Instantiating data generators\n",
    "\n",
    "Compared to the MNIST dataset, the PatchCAMELYON dataset is too big to fit in the working memory of most personal computers. This is why, we need to define some functions that will read the image data batch by batch, so only a single batch of images needs to be stored in memory at one time point. We can use the handy ImageDataGenerator function from the Keras API to do this. Note that the generators are defined within a function that returns them as output arguments. This function will later be called from the main code body. \n"
   ]
  },
  {
   "cell_type": "code",
   "execution_count": 8,
   "metadata": {},
   "outputs": [],
   "source": [
    "def get_pcam_generators(base_dir, train_batch_size=32, val_batch_size=32):\n",
    "\n",
    "     # dataset parameters\n",
    "     TRAIN_PATH = os.path.join(base_dir, 'train+val', 'train')\n",
    "     VALID_PATH = os.path.join(base_dir, 'train+val', 'valid')\n",
    "\n",
    "     RESCALING_FACTOR = 1./255\n",
    "     \n",
    "     # instantiate data generators\n",
    "     datagen = ImageDataGenerator(rescale=RESCALING_FACTOR)\n",
    "\n",
    "     train_gen = datagen.flow_from_directory(TRAIN_PATH,\n",
    "                                             target_size=(IMAGE_SIZE, IMAGE_SIZE),\n",
    "                                             batch_size=train_batch_size,\n",
    "                                             class_mode='binary')\n",
    "\n",
    "     val_gen = datagen.flow_from_directory(VALID_PATH,\n",
    "                                             target_size=(IMAGE_SIZE, IMAGE_SIZE),\n",
    "                                             batch_size=val_batch_size,\n",
    "                                             class_mode='binary',\n",
    "                                             shuffle=False)\n",
    "     \n",
    "     return train_gen, val_gen"
   ]
  },
  {
   "cell_type": "markdown",
   "metadata": {},
   "source": [
    "### Building a convolutional neural network classification model\n",
    "\n",
    "The convolutional neural network model is also defined within a function. Organizing the code into functions instead of piling everything up in a single script makes the code more clear to read and understand, and helps reuse functionality that is already implemented. For example, we can use the `get_pcam_generators()` function to create data generators with different batch sizes just by calling the function with a different set of parameters. Or, we can use the `get_model()` function to generate networks with different number of feature maps (see below). \n",
    "\n",
    "The convolutional neural network model consists of two convolutional layers, each one followed by a max pooling layer and a fully connected layer with 64 neurons. The kernel size and number of filters of the two convolutional layers, and the size of the max pooling regions can be passed as input parameters to the function (however, note that default values are set so the function can be called without parameters). ReLU nonlinearities are used throughout the network, except for the output neuron that is activated with a sigmoid. "
   ]
  },
  {
   "cell_type": "code",
   "execution_count": 9,
   "metadata": {},
   "outputs": [],
   "source": [
    "def get_model(kernel_size=(3,3), pool_size=(4,4), first_filters=32, second_filters=64):\n",
    "\n",
    "\n",
    "     # build the model\n",
    "     model = Sequential()\n",
    "\n",
    "     model.add(Conv2D(first_filters, kernel_size, activation = 'relu', padding = 'same', input_shape = (IMAGE_SIZE, IMAGE_SIZE, 3)))\n",
    "     model.add(MaxPool2D(pool_size = pool_size)) \n",
    "\n",
    "     model.add(Conv2D(second_filters, kernel_size, activation = 'relu', padding = 'same'))\n",
    "     model.add(MaxPool2D(pool_size = pool_size))\n",
    "\n",
    "     model.add(Flatten())\n",
    "     model.add(Dense(64, activation = 'relu'))\n",
    "     model.add(Dense(1, activation = 'sigmoid'))\n",
    "     \n",
    "    \n",
    "     # compile the model\n",
    "     model.compile(SGD(learning_rate=0.01, momentum=0.95), loss = 'binary_crossentropy', metrics=['accuracy'])\n",
    "\n",
    "     return model"
   ]
  },
  {
   "cell_type": "markdown",
   "metadata": {},
   "source": [
    "Now, the two functions that define the model and the data generators can be called from the main code body. Before executing the code block below, do not forget to change the path where the PatchCAMELYON dataset is located (that is, the location of the folder that contains `train+val` that you previously downloaded and unpacked).\n",
    "\n",
    "If everything is correct, the following output will be printed on screen after executing the code block:\n",
    "\n",
    "`Found 144000 images belonging to 2 classes.`\n",
    "\n",
    "`Found 16000 images belonging to 2 classes.`"
   ]
  },
  {
   "cell_type": "code",
   "execution_count": 10,
   "metadata": {},
   "outputs": [
    {
     "name": "stdout",
     "output_type": "stream",
     "text": [
      "Found 144000 images belonging to 2 classes.\n",
      "Found 16000 images belonging to 2 classes.\n"
     ]
    }
   ],
   "source": [
    "# get the model\n",
    "model = get_model()\n",
    "\n",
    "# get the data generators\n",
    "train_gen, val_gen = get_pcam_generators('C:/Users//20192823//Documents//3 jaar//Kwartiel 3//BIA')"
   ]
  },
  {
   "cell_type": "markdown",
   "metadata": {},
   "source": [
    "If you want to know the shapes of the outputs of all layers in the network (the dimensionality of the feature maps), you can print them in the following way:"
   ]
  },
  {
   "cell_type": "code",
   "execution_count": 11,
   "metadata": {},
   "outputs": [
    {
     "name": "stdout",
     "output_type": "stream",
     "text": [
      "(None, 96, 96, 32)\n",
      "(None, 24, 24, 32)\n",
      "(None, 24, 24, 64)\n",
      "(None, 6, 6, 64)\n",
      "(None, 2304)\n",
      "(None, 64)\n",
      "(None, 1)\n"
     ]
    }
   ],
   "source": [
    "for layer in model.layers:\n",
    "    print(layer.output_shape)"
   ]
  },
  {
   "cell_type": "code",
   "execution_count": 12,
   "metadata": {},
   "outputs": [
    {
     "name": "stdout",
     "output_type": "stream",
     "text": [
      "Model: \"sequential_4\"\n",
      "_________________________________________________________________\n",
      "Layer (type)                 Output Shape              Param #   \n",
      "=================================================================\n",
      "conv2d_16 (Conv2D)           (None, 96, 96, 32)        896       \n",
      "_________________________________________________________________\n",
      "max_pooling2d_8 (MaxPooling2 (None, 24, 24, 32)        0         \n",
      "_________________________________________________________________\n",
      "conv2d_17 (Conv2D)           (None, 24, 24, 64)        18496     \n",
      "_________________________________________________________________\n",
      "max_pooling2d_9 (MaxPooling2 (None, 6, 6, 64)          0         \n",
      "_________________________________________________________________\n",
      "flatten_4 (Flatten)          (None, 2304)              0         \n",
      "_________________________________________________________________\n",
      "dense (Dense)                (None, 64)                147520    \n",
      "_________________________________________________________________\n",
      "dense_1 (Dense)              (None, 1)                 65        \n",
      "=================================================================\n",
      "Total params: 166,977\n",
      "Trainable params: 166,977\n",
      "Non-trainable params: 0\n",
      "_________________________________________________________________\n"
     ]
    }
   ],
   "source": [
    "model.summary()"
   ]
  },
  {
   "cell_type": "code",
   "execution_count": 13,
   "metadata": {},
   "outputs": [],
   "source": [
    "import tensorflow as tf\n",
    "def get_model_fullyconv(kernel_size=(3,3), pool_size=(4,4), first_filters=32, second_filters=64):\n",
    "\n",
    "\n",
    "     # build the model\n",
    "     model = Sequential()\n",
    "\n",
    "     model.add(Conv2D(first_filters, kernel_size, activation = 'relu', padding = 'same', input_shape = (IMAGE_SIZE, IMAGE_SIZE, 3)))\n",
    "     model.add(MaxPool2D(pool_size = pool_size)) \n",
    "\n",
    "     model.add(Conv2D(second_filters, kernel_size, activation = 'relu', padding = 'same'))\n",
    "     model.add(MaxPool2D(pool_size = pool_size))\n",
    "\n",
    "     model.add(Conv2D(64, (6,6), activation = 'relu'))\n",
    "     model.add(Conv2D(1, (1,1), activation = 'sigmoid'))\n",
    "     model.add(Flatten())\n",
    "\n",
    "\n",
    "    \n",
    "    \n",
    "     # compile the model\n",
    "     model.compile(SGD(learning_rate=0.01, momentum=0.95), loss = 'binary_crossentropy', metrics=['accuracy'])\n",
    "\n",
    "     return model"
   ]
  },
  {
   "cell_type": "code",
   "execution_count": 14,
   "metadata": {},
   "outputs": [
    {
     "name": "stdout",
     "output_type": "stream",
     "text": [
      "(None, 96, 96, 32)\n",
      "(None, 24, 24, 32)\n",
      "(None, 24, 24, 64)\n",
      "(None, 6, 6, 64)\n",
      "(None, 1, 1, 64)\n",
      "(None, 1, 1, 1)\n",
      "(None, 1)\n"
     ]
    }
   ],
   "source": [
    "# get the model\n",
    "model_fullyconv = get_model_fullyconv()\n",
    "\n",
    "for layer in model_fullyconv.layers:\n",
    "    print(layer.output_shape)\n"
   ]
  },
  {
   "cell_type": "code",
   "execution_count": 15,
   "metadata": {},
   "outputs": [
    {
     "name": "stdout",
     "output_type": "stream",
     "text": [
      "Model: \"sequential_5\"\n",
      "_________________________________________________________________\n",
      "Layer (type)                 Output Shape              Param #   \n",
      "=================================================================\n",
      "conv2d_18 (Conv2D)           (None, 96, 96, 32)        896       \n",
      "_________________________________________________________________\n",
      "max_pooling2d_10 (MaxPooling (None, 24, 24, 32)        0         \n",
      "_________________________________________________________________\n",
      "conv2d_19 (Conv2D)           (None, 24, 24, 64)        18496     \n",
      "_________________________________________________________________\n",
      "max_pooling2d_11 (MaxPooling (None, 6, 6, 64)          0         \n",
      "_________________________________________________________________\n",
      "conv2d_20 (Conv2D)           (None, 1, 1, 64)          147520    \n",
      "_________________________________________________________________\n",
      "conv2d_21 (Conv2D)           (None, 1, 1, 1)           65        \n",
      "_________________________________________________________________\n",
      "flatten_5 (Flatten)          (None, 1)                 0         \n",
      "=================================================================\n",
      "Total params: 166,977\n",
      "Trainable params: 166,977\n",
      "Non-trainable params: 0\n",
      "_________________________________________________________________\n"
     ]
    }
   ],
   "source": [
    "model_fullyconv.summary()"
   ]
  },
  {
   "cell_type": "markdown",
   "metadata": {},
   "source": [
    "### Training and evaluating the model\n",
    "\n",
    "Finally, the model can be trained using data generated by the data generators and then evaluated. This is done in a similar way to the previous assignment. Furthermore, in addition to the Tensorflow callback, an additional callback that saves the \"best\" version of the trained model to a file is added, and the model structure is saved to a json file. This enables loading the model and corresponding weights at a later time point (e.g. when we want to evaluate the model on a test set). "
   ]
  },
  {
   "cell_type": "code",
   "execution_count": 16,
   "metadata": {},
   "outputs": [
    {
     "name": "stdout",
     "output_type": "stream",
     "text": [
      "Epoch 1/3\n",
      "   2/4500 [..............................] - ETA: 28:21 - loss: 0.7142 - accuracy: 0.5156WARNING:tensorflow:Callbacks method `on_train_batch_end` is slow compared to the batch time (batch time: 0.1177s vs `on_train_batch_end` time: 0.6379s). Check your callbacks.\n",
      "4500/4500 [==============================] - ETA: 0s - loss: 0.4958 - accuracy: 0.7568\n",
      "Epoch 00001: val_loss improved from inf to 0.42315, saving model to my_first_cnn_model_weights.hdf5\n",
      "4500/4500 [==============================] - 499s 111ms/step - loss: 0.4958 - accuracy: 0.7568 - val_loss: 0.4232 - val_accuracy: 0.8054\n",
      "Epoch 2/3\n",
      "4500/4500 [==============================] - ETA: 0s - loss: 0.4194 - accuracy: 0.8095\n",
      "Epoch 00002: val_loss improved from 0.42315 to 0.40846, saving model to my_first_cnn_model_weights.hdf5\n",
      "4500/4500 [==============================] - 498s 111ms/step - loss: 0.4194 - accuracy: 0.8095 - val_loss: 0.4085 - val_accuracy: 0.8170\n",
      "Epoch 3/3\n",
      "4500/4500 [==============================] - ETA: 0s - loss: 0.3958 - accuracy: 0.8226\n",
      "Epoch 00003: val_loss did not improve from 0.40846\n",
      "4500/4500 [==============================] - 500s 111ms/step - loss: 0.3958 - accuracy: 0.8226 - val_loss: 0.4292 - val_accuracy: 0.8125\n"
     ]
    },
    {
     "data": {
      "image/png": "[encoded data removed]",
      "text/plain": [
       "<Figure size 432x288 with 1 Axes>"
      ]
     },
     "metadata": {
      "needs_background": "light"
     },
     "output_type": "display_data"
    }
   ],
   "source": [
    "# save the model and weights\n",
    "model_name = 'my_first_cnn_model'\n",
    "model_filepath = model_name + '.json'\n",
    "weights_filepath = model_name + '_weights.hdf5'\n",
    "\n",
    "model_json = model.to_json() # serialize model to JSON\n",
    "with open(model_filepath, 'w') as json_file:\n",
    "    json_file.write(model_json) \n",
    "\n",
    "\n",
    "# define the model checkpoint and Tensorboard callbacks\n",
    "checkpoint = ModelCheckpoint(weights_filepath, monitor='val_loss', verbose=1, save_best_only=True, mode='min')\n",
    "tensorboard = TensorBoard(os.path.join('logs', model_name))\n",
    "callbacks_list = [checkpoint, tensorboard]\n",
    "\n",
    "\n",
    "# train the model\n",
    "train_steps = train_gen.n//train_gen.batch_size\n",
    "val_steps = val_gen.n//val_gen.batch_size\n",
    "\n",
    "history = model.fit(train_gen, steps_per_epoch=train_steps, \n",
    "                    validation_data=val_gen,\n",
    "                    validation_steps=val_steps,\n",
    "                    epochs=3,\n",
    "                    callbacks=callbacks_list)\n",
    "\n",
    "\n",
    "# ROC analysis\n",
    "\n",
    "val_prob = model.predict(val_gen)\n",
    "filenames=val_gen.filenames\n",
    "val_true_labels = []\n",
    "\n",
    "for i in filenames:\n",
    "    val_true_labels.append(int(i[0]))\n",
    "\n",
    "val_true_array = np.array(val_true_labels)\n",
    "\n",
    "val_prob_array = np.array(val_prob)\n",
    "\n",
    "val_true_array = val_true_array.reshape(16000,1)\n",
    "\n",
    "# Plotting the ROC curve\n",
    "\n",
    "fpr1 , tpr1 , thresholds = roc_curve(val_true_labels, val_prob)\n",
    "\n",
    "def plot_roc_curve(fpr1,tpr1): \n",
    "  plt.plot(fpr1,tpr1) \n",
    "  plt.axis([0,1,0,1]) \n",
    "  plt.xlabel('False Positive Rate') \n",
    "  plt.ylabel('True Positive Rate') \n",
    "  plt.show()    \n",
    "  \n",
    "plot_roc_curve (fpr1,tpr1) \n"
   ]
  },
  {
   "cell_type": "code",
   "execution_count": 17,
   "metadata": {},
   "outputs": [],
   "source": [
    "auc_score1 = auc(fpr1, tpr1)"
   ]
  },
  {
   "cell_type": "markdown",
   "metadata": {},
   "source": [
    "In case you are wondering why (for the first epochs in particular) the validation accuracy is much higher than the training accuracy and the validation loss is lower than the training loss, you can find your answer in the [Keras FAQ](https://keras.rstudio.com/articles/faq.html).\n",
    "\n",
    "### Before you start with the exercises...\n",
    "\n",
    "Make sure that you understand all new code components introduced in the example. Remember: you can always lookup the documentation of the used functions to get a better understanding about how they work.\n",
    "\n",
    "[This blog post](http://karpathy.github.io/2019/04/25/recipe/) by Andrej Kaprapthy with tips and tricks for training neural networks is highly recommended reading material.\n",
    "\n",
    "## Exercise 1\n",
    "\n",
    "The PatchCAMELYON challenge on Kaggle uses the area under the ROC curve as an evaluation measure. Describe the concept of ROC curve analysis and the area under the ROC curve (AUC) as an evaluation measure. Then, using methods from the sklearn Python toolbox (the required functions are alerady imported), perform ROC curve analysis and computation of the AUC for your model. \n",
    "\n",
    "Note that you will have to do this analysis on the validation set (since you do not have access to the ground truth for the test set). \n",
    "\n",
    "\n",
    "\n",
    "*When 1-specificity (i.e. False Positive Rate, FPR) on the x-axis is plotted against sensitivity (True Positive Rate, TPR) on the y-axis, the plot is called the Receiver Operator Characteristic (ROC) curve [A]. To compare different classifiers, i.e. the same classifier with different learning parameters or completely different classifiers, the ROC curve can be useful [boek]. A single run of one classifier gives a single point on the ROC plot [boek].* \n",
    "\n",
    "*In medical context for instance, the basic principle of the ROC curve is to quantify how accurately medical diagnostic tests can discriminate between two patient states e.g. diseased or healthy [A]. By altering the decision threshold we will get different fractions of TP and FP [B]. For all these decision thresholds then the fractions are plotted in the ROC curve. A classifier is deemed to be 'perfect' when it is located at the point (0,1) on the ROC curve, i.e. when the classifier has a TPR of 1 and a FPR of 0 for a specific decision threshold. Moreover, when the ROC curve corresponds to the 45 degree line (y = x), the diagnostic test that belongs to this curve is as good as random guessing (i.e. chance level) [A]. In other words, we have a test which yields positive or negative results unrelated to the true disease status [A]. Hence, the closer to the top-left-hand corner the result of a classifier is, the better it has performed [boek]. Thus, to compare different classifiers, one can use the Area Under the Curve (AUC) to evaluate and compare model performance. Since the closer the classifier gets to the 'ideal' point of (0,1), the larger the AUC and the better the classifier performs [boek].*\n",
    "\n",
    "\n",
    "[A] Hajian-Tilaki K. (2013). Receiver Operating Characteristic (ROC) Curve Analysis for Medical Diagnostic Test Evaluation. Caspian journal of internal medicine, 4(2), 627–635.\n",
    "[B] Charles E. Metz, Basic principles of ROC analysis, Seminars in Nuclear Medicine, Volume 8, Issue 4, 1978, Pages 283-298, ISSN 0001-2998,\n",
    "https://doi.org/10.1016/S0001-2998(78)80014-2.\n",
    "(https://www.sciencedirect.com/science/article/pii/S0001299878800142)\n",
    "[boek] Marsland, S. (2014). Machine Learning: An Algorithmic Perspective, Second Edition (Chapman & Hall/CRC Machine Learning & Pattern Recognition) (2de editie). Chapman and Hall/CRC.\n",
    "\n",
    "## Exercise 2\n",
    "\n",
    "It is possible to construct a neural network model that is equivalent to the model above, however, only using convolutional layers (i.e. without using any fully connected or \"dense\" layers). Construct and train such a model. \n",
    "\n",
    "What would be the advantage of only using convolutional layers?\n",
    "\n",
    "\n",
    "*Yes, it is possible to construct a neural network model equivalent to the previous model by using only convolutional layers. The difference between fully-connected and convolutional layers is that the neurons in a convolutional layer are connected only to a local region in the input and the sharing of weights by the neurons [D]. This sharing is done by convolving the input image / array with a kernel. Hence, in order to convert a fully connected layer to a convolutional layer with equivalent output, one has to pay attention to the size of the kernel used in the convolutional layer. That is, the kernel size has to be the same as the size of the input feature array and the filter size must be equal to the input volume [D] [E]. Consequently, the output will be equal to the output we received from a fully-connected layer [D]. In our particular case, this means that we do not flatten the array until after the convolutional layers since the kernels corresponding to the convolutional layers remain two dimensional. The two dense layers with respectively 64 and 1 neurons will be replaced by 2D convolutional layers with kernel size equal to the size of the input that the previous layer generates. From the model summary we find that the second max pooling layer gives an output shape of (None, 6, 6, 64) so the kernel of the first convolutional layer needs to be (6,6) with 64 filters. For the last convolutional layer we need only one output neuron, since we only want one final output from our model (i.e. the probability of the image belonging to class 1, binary problem). Hence, the last convolutional layer will have a kernel size of (1,1) with 1 filter (filter = 1 means the number of output filters in the convolution is equal to 1) [F]. To receive one probability value, we flatten the array after all the layers. To check if the neural network consisting of only convolutional layer is equivalent to the previous fully-connected neural network, we can examine if the amount of total parameters is the same. This is the case since for both the fully-connected as well as the fully convolutional neural network, the amount of total parameters equals 166,977. Hence we have created a network consisting of only convolutional layers that is equivalent to the first mentioned neural network.*\n",
    "\n",
    "\n",
    "*The architecture of a convolutional neural network, in comparison to an ordinary feed forward neural network, allows for better fitting to the image dataset caused by a reduction in the number of parameters involved and the reusability of weights by convolution with a kernel [C]. Using only convolutional layers drastically reduces the amount of weights that needs to be calculated and updated during back propagation. Usually, an advantage then would be that the computation time is decreased and overall the convolutional neural network model would be less computationally expensive. However, in our specific case, the convolutional neural network is equivalent to the fully-connected version since it has the same amount of parameters. Hence this advantage does not apply here. A benefit of using only convolutional layers that does apply here, is the ability to automatically identify relevant features without the need for human supervision [H]. CNN's are designed to automatically and adaptively spatial hierarchies of features, which makes them especially suitable for image recognition [I]. In conclusion, the higher efficiency of CNN's due to the usage of kernels to extract features anywhere in the image, gives convolutional layers a substantial advantage over fully connected layers regarding image processing [I].*\n",
    "\n",
    "\n",
    "\n",
    "\n",
    "\n",
    "[C]  https://towardsdatascience.com/a-comprehensive-guide-to-convolutional-neural-networks-the-eli5-way-3bd2b1164a53\n",
    "\n",
    "[D] https://mein2work.medium.com/converting-fc-layers-to-conv-layers-8a43880a44ed\n",
    "\n",
    "[E] https://sebastianraschka.com/faq/docs/fc-to-conv.html#:~:text=Yes%2C%20you%20can%20replace%20a,exact%20same%20behavior%20or%20outputs.\n",
    "\n",
    "[F] https://keras.io/api/layers/convolution_layers/convolution2d/\n",
    "\n",
    "[G] https://towardsdatascience.com/types-of-convolution-kernels-simplified-f040cb307c37\n",
    "\n",
    "[H] https://journalofbigdata.springeropen.com/articles/10.1186/s40537-021-00444-8#:~:text=The%20main%20benefit%20of%20CNN,Recognition%20%5B79%5D%2C%20etc.\n",
    "\n",
    "[I] https://insightsimaging.springeropen.com/articles/10.1007/s13244-018-0639-9\n",
    "\n",
    "## Exercise 3\n",
    "\n",
    "Use the `kaggle_submission.py` file to prepare and submit results for evaluation to Kaggle. What is the result of the evaluation on the test set? How does it compare to the evaluation that you performed on the validation set?\n",
    "\n",
    "## Submission checklist\n",
    "\n",
    "* Exercise 1: Answer to the questions and code\n",
    "* Exercise 2: Answer to the questions and code\n",
    "* Exercise 3: Answer to the questions and code"
   ]
  },
  {
   "cell_type": "markdown",
   "metadata": {},
   "source": [
    "## Notes\n",
    "\n",
    "Dense layers weghalen en dan in plaats daarvan andere layers toevoegen. model.flatten en dan twee dense layers. Een heeft 64 neuronen en de ander 1 omdat je 1 antwoord wilt. Die moet je dan weghalen, we willen beide dense layers weghalen omdat we naar convolutional willen. Nu op zoek gaan naar convolutional layers om de dense layers te vervangen. Met equivalent bedoelen ze meer de performance\n",
    "\n",
    "Goeie kernel en goeie neuronen voor de convolutional layers en dan vergelijken of er iets vergelijkbaars uitkomt. \n",
    "\n",
    "Wel weer eindigen met 1 neuron op het einde want we willen maar 1 output neuron. Kunnen we ook controleren --> summary van model plotten --> model.summary() --> dan krijgen we samenvatting van hele model --> per laag zien hoeveel parameters erinzitten. Evenveel parameters in convolutional als in fully connected.\n",
    "\n",
    "\n",
    "*Equivalent? Do they mean using a convolutional neural network with a kernel of 1 ? But what would be the advantage of that? Dense can be replaced by convolutional layer with kernel 1 and then we need to replace max pooling layer by convolutional layer?* \n",
    "\n",
    "\n",
    "*When using multiple convolutional layers, each convolutional layer is assigned their own features to detect. Usually, the first convolutional layer is used for low-level feature detection, e.g. edges, color, gradient orientation etc. [C]. The next layers then combine these features into more complex features to allow for the detection of specific characteristics of an image.* \n",
    "\n",
    "In summary, the goal of a convolutional neural network is to reduce the images into a form which allows for easy processing without losing features that are necessary for getting an accurate prediction [C].*"
   ]
  },
  {
   "cell_type": "code",
   "execution_count": 4,
   "metadata": {},
   "outputs": [
    {
     "name": "stdout",
     "output_type": "stream",
     "text": [
      "Found 144000 images belonging to 2 classes.\n",
      "Found 16000 images belonging to 2 classes.\n",
      "Epoch 1/3\n",
      "   1/4500 [..............................] - ETA: 0s - loss: 0.6931 - accuracy: 0.5000WARNING:tensorflow:From C:\\Users\\20192823\\.conda\\envs\\p361\\lib\\site-packages\\tensorflow\\python\\ops\\summary_ops_v2.py:1277: stop (from tensorflow.python.eager.profiler) is deprecated and will be removed after 2020-07-01.\n",
      "Instructions for updating:\n",
      "use `tf.profiler.experimental.stop` instead.\n",
      "4500/4500 [==============================] - ETA: 0s - loss: 0.4868 - accuracy: 0.7660\n",
      "Epoch 00001: val_loss improved from inf to 0.43426, saving model to model_fully_conv_weights.hdf5\n",
      "4500/4500 [==============================] - 3142s 698ms/step - loss: 0.4868 - accuracy: 0.7660 - val_loss: 0.4343 - val_accuracy: 0.8044\n",
      "Epoch 2/3\n",
      "4500/4500 [==============================] - ETA: 0s - loss: 0.4005 - accuracy: 0.8217\n",
      "Epoch 00002: val_loss improved from 0.43426 to 0.37792, saving model to model_fully_conv_weights.hdf5\n",
      "4500/4500 [==============================] - 471s 105ms/step - loss: 0.4005 - accuracy: 0.8217 - val_loss: 0.3779 - val_accuracy: 0.8372\n",
      "Epoch 3/3\n",
      "4500/4500 [==============================] - ETA: 0s - loss: 0.3643 - accuracy: 0.8401\n",
      "Epoch 00003: val_loss improved from 0.37792 to 0.34637, saving model to model_fully_conv_weights.hdf5\n",
      "4500/4500 [==============================] - 1057s 235ms/step - loss: 0.3643 - accuracy: 0.8401 - val_loss: 0.3464 - val_accuracy: 0.8501\n"
     ]
    },
    {
     "data": {
      "image/png": "[encoded data removed]",
      "text/plain": [
       "<Figure size 432x288 with 1 Axes>"
      ]
     },
     "metadata": {
      "needs_background": "light"
     },
     "output_type": "display_data"
    }
   ],
   "source": [
    "import os\n",
    "os.environ['TF_CPP_MIN_LOG_LEVEL'] = '3'  # or any {'0', '1', '2'}   \n",
    "import tensorflow as tf\n",
    "\n",
    "import numpy as np\n",
    "\n",
    "from tensorflow.keras.preprocessing.image import ImageDataGenerator\n",
    "from tensorflow.keras.models import Sequential\n",
    "from tensorflow.keras.layers import Dense, Flatten\n",
    "from tensorflow.keras.layers import Conv2D, MaxPool2D\n",
    "from tensorflow.keras.optimizers import SGD\n",
    "from tensorflow.keras.callbacks import ModelCheckpoint, TensorBoard\n",
    "import matplotlib.pyplot as plt\n",
    "# unused for now, to be used for ROC analysis\n",
    "from sklearn.metrics import roc_curve, auc\n",
    "\n",
    "\n",
    "# the size of the images in the PCAM dataset\n",
    "IMAGE_SIZE = 96\n",
    "\n",
    "\n",
    "def get_pcam_generators(base_dir, train_batch_size=32, val_batch_size=32):\n",
    "\n",
    "     # dataset parameters\n",
    "     train_path = os.path.join(base_dir, 'train+val', 'train')\n",
    "     valid_path = os.path.join(base_dir, 'train+val', 'valid')\n",
    "\n",
    "\n",
    "     RESCALING_FACTOR = 1./255\n",
    "\n",
    "     # instantiate data generators\n",
    "     datagen = ImageDataGenerator(rescale=RESCALING_FACTOR)\n",
    "\n",
    "     train_gen = datagen.flow_from_directory(train_path,\n",
    "                                             target_size=(IMAGE_SIZE, IMAGE_SIZE),\n",
    "                                             batch_size=train_batch_size,\n",
    "                                             class_mode='binary')\n",
    "\n",
    "     val_gen = datagen.flow_from_directory(valid_path,\n",
    "                                             target_size=(IMAGE_SIZE, IMAGE_SIZE),\n",
    "                                             batch_size=val_batch_size,\n",
    "                                             class_mode='binary', shuffle = False) \n",
    "     # NB: first SHUFFLE = FALSE was not specified in the val_gen definition\n",
    "     # This was however specified in the code in the jupyter notebook\n",
    "     # This was the reason for the odd ROC curves\n",
    "\n",
    "     return train_gen, val_gen\n",
    "\n",
    "\n",
    "# Now we replace the last two dense layers with convolutional layers and examine the effect on model performance\n",
    "# by checking the ROC curves and loss curves on training and validation dataset\n",
    "# Since we do not have the ground truth of the test set, model performance will be evaluated on the test set.\n",
    "\n",
    "def get_model_fullyconv(kernel_size=(3,3), pool_size=(4,4), first_filters=32, second_filters=64):\n",
    "\n",
    "\n",
    "     # build the model\n",
    "     model = Sequential()\n",
    "\n",
    "     model.add(Conv2D(first_filters, kernel_size, activation = 'relu', padding = 'same', input_shape = (IMAGE_SIZE, IMAGE_SIZE, 3)))\n",
    "     model.add(MaxPool2D(pool_size = pool_size)) \n",
    "\n",
    "     model.add(Conv2D(second_filters, kernel_size, activation = 'relu', padding = 'same'))\n",
    "     model.add(MaxPool2D(pool_size = pool_size))\n",
    "\n",
    "     model.add(Conv2D(64, (6,6), activation = 'relu'))\n",
    "     model.add(Conv2D(1, (1,1), activation = 'sigmoid'))\n",
    "     model.add(Flatten())\n",
    "\n",
    "    \n",
    "    \n",
    "     # compile the model\n",
    "     model.compile(SGD(learning_rate=0.01, momentum=0.95), loss = 'binary_crossentropy', metrics=['accuracy'])\n",
    "\n",
    "     return model\n",
    "\n",
    "# get the model\n",
    "model_fullyconv = get_model_fullyconv()\n",
    "\n",
    "\n",
    "# get the data generators\n",
    "train_gen, val_gen = get_pcam_generators('C:/Users//20192823//Documents//3 jaar//Kwartiel 3//BIA')\n",
    "\n",
    "\n",
    "\n",
    "# save the model and weights\n",
    "model_name = 'model_fully_conv'\n",
    "model_filepath = model_name + '.json'\n",
    "weights_filepath = model_name + '_weights.hdf5'\n",
    "\n",
    "model_json = model_fullyconv.to_json() # serialize model to JSON\n",
    "with open(model_filepath, 'w') as json_file:\n",
    "    json_file.write(model_json)\n",
    "\n",
    "\n",
    "# define the model checkpoint and Tensorboard callbacks\n",
    "checkpoint = ModelCheckpoint(weights_filepath, monitor='val_loss', verbose=1, save_best_only=True, mode='min')\n",
    "tensorboard = TensorBoard(os.path.join('logs', model_name))\n",
    "callbacks_list = [checkpoint, tensorboard]\n",
    "\n",
    "\n",
    "# train the model\n",
    "train_steps = train_gen.n//train_gen.batch_size\n",
    "val_steps = val_gen.n//val_gen.batch_size\n",
    "\n",
    "history = model_fullyconv.fit(train_gen, steps_per_epoch=train_steps,\n",
    "                    validation_data=val_gen,\n",
    "                    validation_steps=val_steps,\n",
    "                    epochs=3,\n",
    "                    callbacks=callbacks_list)\n",
    "\n",
    "# ROC analysis\n",
    "\n",
    "val_prob = model_fullyconv.predict(val_gen)\n",
    "filenames=val_gen.filenames\n",
    "val_true_labels = []\n",
    "\n",
    "for i in filenames:\n",
    "    val_true_labels.append(int(i[0]))\n",
    "\n",
    "val_true_array = np.array(val_true_labels)\n",
    "\n",
    "val_prob_array = np.array(val_prob)\n",
    "\n",
    "val_true_array = val_true_array.reshape(16000,1)\n",
    "\n",
    "# Plotting the ROC curve\n",
    "\n",
    "fpr , tpr , thresholds = roc_curve(val_true_labels, val_prob)\n",
    "\n",
    "def plot_roc_curve(fpr,tpr): \n",
    "  plt.plot(fpr,tpr) \n",
    "  plt.axis([0,1,0,1]) \n",
    "  plt.xlabel('False Positive Rate') \n",
    "  plt.ylabel('True Positive Rate') \n",
    "  plt.title('ROC curve - model with only convolutional layers')\n",
    "  plt.show()    \n",
    "  \n",
    "plot_roc_curve (fpr,tpr) \n",
    "auc_score = auc(fpr, tpr)\n"
   ]
  },
  {
   "cell_type": "code",
   "execution_count": 19,
   "metadata": {},
   "outputs": [
    {
     "data": {
      "text/plain": [
       "0.9312683828125"
      ]
     },
     "execution_count": 19,
     "metadata": {},
     "output_type": "execute_result"
    }
   ],
   "source": [
    "auc_score\n"
   ]
  },
  {
   "cell_type": "code",
   "execution_count": 20,
   "metadata": {},
   "outputs": [
    {
     "data": {
      "text/plain": [
       "0.8903727499999999"
      ]
     },
     "execution_count": 20,
     "metadata": {},
     "output_type": "execute_result"
    }
   ],
   "source": [
    "auc_score1"
   ]
  },
  {
   "cell_type": "markdown",
   "metadata": {},
   "source": [
    "* Based on the AUC score, it is seen that the model with only convulational layers is more accurate at discrimination, with a value of 0.931, versus a value of 0.890. Comparison of the graphs shows a similar result.    *"
   ]
  },
  {
   "cell_type": "code",
   "execution_count": null,
   "metadata": {},
   "outputs": [],
   "source": [
    "def plot_roc_curve(fpr,tpr,fpr1,tpr1): \n",
    "  plt.plot(fpr,tpr) \n",
    "  plt.plot(fpr1,)\n",
    "  plt.axis([0,1,0,1]) \n",
    "  plt.xlabel('False Positive Rate') \n",
    "  plt.ylabel('True Positive Rate') \n",
    "  plt.title('ROC curve - model with only convolutional layers')\n",
    "  plt.show()    \n",
    "  \n",
    "plot_roc_curve (fpr,tpr)"
   ]
  }
 ],
 "metadata": {
  "kernelspec": {
   "display_name": "Python 3 (ipykernel)",
   "language": "python",
   "name": "python3"
  },
  "language_info": {
   "codemirror_mode": {
    "name": "ipython",
    "version": 3
   },
   "file_extension": ".py",
   "mimetype": "text/x-python",
   "name": "python",
   "nbconvert_exporter": "python",
   "pygments_lexer": "ipython3",
   "version": "3.8.12"
  }
 },
 "nbformat": 4,
 "nbformat_minor": 2
}
